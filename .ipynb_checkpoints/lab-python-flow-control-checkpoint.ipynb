{
 "cells": [
  {
   "cell_type": "markdown",
   "id": "d3bfc191-8885-42ee-b0a0-bbab867c6f9f",
   "metadata": {
    "tags": []
   },
   "source": [
    "# Lab | Flow Control"
   ]
  },
  {
   "cell_type": "markdown",
   "id": "3851fcd1-cf98-4653-9c89-e003b7ec9400",
   "metadata": {},
   "source": [
    "## Exercise: Managing Customer Orders Optimized\n",
    "\n",
    "In the last lab, you were starting an online store that sells various products. To ensure smooth operations, you developed a program that manages customer orders and inventory.\n",
    "\n",
    "You did so without using flow control. Let's go a step further and improve this code.\n",
    "\n",
    "Follow the steps below to complete the exercise:\n",
    "\n",
    "1. Look at your code from the lab data structures, and improve repeated code with loops.\n",
    "\n",
    "2. Instead of asking the user to input the name of three products that a customer wants to order, do the following:\n",
    "    \n",
    "    a. Prompt the user to enter the name of a product that a customer wants to order.\n",
    "    \n",
    "    b. Add the product name to the \"customer_orders\" set.\n",
    "    \n",
    "    c. Ask the user if they want to add another product (yes/no).\n",
    "    \n",
    "    d. Continue the loop until the user does not want to add another product.\n",
    "\n",
    "3. Instead of updating the inventory by subtracting 1 from the quantity of each product, only do it for  the products that were ordered (those in \"customer_orders\")."
   ]
  },
  {
   "cell_type": "code",
   "execution_count": 2,
   "id": "3e46f70e-c12b-4b61-a424-ee4ba4e22eae",
   "metadata": {},
   "outputs": [
    {
     "name": "stdin",
     "output_type": "stream",
     "text": [
      "Enter the quantity of t-shirt:  2\n",
      "Enter the quantity of mug:  3\n",
      "Enter the quantity of hat:  4\n",
      "Enter the quantity of book:  3\n",
      "Enter the quantity of keychain:  2\n"
     ]
    },
    {
     "data": {
      "text/plain": [
       "{'t-shirt': 2, 'mug': 3, 'hat': 4, 'book': 3, 'keychain': 2}"
      ]
     },
     "execution_count": 2,
     "metadata": {},
     "output_type": "execute_result"
    }
   ],
   "source": [
    "##### 1.\n",
    "\n",
    "products = [\"t-shirt\", \"mug\", \"hat\", \"book\", \"keychain\"]\n",
    "\n",
    "inventory = {}\n",
    "\n",
    "for product in products:\n",
    "    quantity = int(input(f\"Enter the quantity of {product}: \"))\n",
    "    inventory[product] = quantity\n",
    "\n",
    "inventory"
   ]
  },
  {
   "cell_type": "code",
   "execution_count": 22,
   "id": "e4cd20ae-4fbd-4a36-933e-4bf672848d8e",
   "metadata": {},
   "outputs": [
    {
     "name": "stdin",
     "output_type": "stream",
     "text": [
      "\n",
      "Enter the name of a product to order:  mug\n",
      "\n",
      "Do you want to add another product? (yes/no):  no\n"
     ]
    },
    {
     "name": "stdout",
     "output_type": "stream",
     "text": [
      "\n",
      "Customer Orders:\n",
      "mug\n"
     ]
    }
   ],
   "source": [
    "customer_orders = set()\n",
    "another = \"yes\"\n",
    "\n",
    "while another == \"yes\" :\n",
    "    order = str(input(\"\\nEnter the name of a product to order: \"))\n",
    "    \n",
    "    if order in products:\n",
    "        customer_orders.add(order)\n",
    "    else:\n",
    "        print(f\"\\n{order} is not in the product list. Please choose from the available products.\")\n",
    "\n",
    "    another = input(\"\\nDo you want to add another product? (yes/no): \")\n",
    "\n",
    "print(\"\\nCustomer Orders:\")\n",
    "for item in customer_orders:\n",
    "    print(item)"
   ]
  },
  {
   "cell_type": "code",
   "execution_count": 12,
   "id": "85469451-c611-4293-a295-3d52a4e3de1c",
   "metadata": {},
   "outputs": [
    {
     "name": "stdout",
     "output_type": "stream",
     "text": [
      "\n",
      "Order Statistics:\n",
      "Total Products Ordered: 1\n",
      "Percentage of Products Ordered: 7.6923076923076925 %\n",
      "\n",
      "Remaining inventory:\n",
      "t-shirt: 2\n",
      "mug: 1\n",
      "hat: 4\n",
      "book: 3\n",
      "keychain: 2\n"
     ]
    }
   ],
   "source": [
    "total_number = len(customer_orders)\n",
    "total_inventory = sum(inventory.values())\n",
    "order_status = (total_number / total_inventory * 100)\n",
    "percentage_ordered = order_status\n",
    "print(\"\\nOrder Statistics:\")\n",
    "print(f\"Total Products Ordered:\", total_number)\n",
    "print(f\"Percentage of Products Ordered:\", percentage_ordered, \"%\")\n",
    "\n",
    "for item in customer_orders:\n",
    "    if inventory[item] > 0:\n",
    "        inventory[item] -= 1\n",
    "\n",
    "print(\"\\nRemaining inventory:\")\n",
    "\n",
    "for product in products:\n",
    "    print(f\"{product}: {inventory.get(product)}\")"
   ]
  },
  {
   "cell_type": "markdown",
   "id": "9889dffb-1328-418b-b85e-69638ab79371",
   "metadata": {},
   "source": [
    "##### Complex alternative\n",
    "\n",
    "products = [\"t-shirt\", \"mug\", \"hat\", \"book\", \"keychain\"]\n",
    "\n",
    "inventory = {}\n",
    "\n",
    "for product in products:\n",
    "    quantity = int(input(f\"Enter the quantity of {product}: \"))\n",
    "    inventory[product] = quantity\n",
    "\n",
    "inventory\n",
    "\n",
    "customer_orders = set()\n",
    "\n",
    "while True:\n",
    "    order = str(input(\"\\nEnter the name of a product to order: \"))\n",
    "    \n",
    "    if order in products:\n",
    "        customer_orders.add(order)\n",
    "    else:\n",
    "        print(f\"\\n{order} is not in the product list. Please choose from the available products.\")\n",
    "\n",
    "    another = input(\"\\nDo you want to add another product? (yes/no): \")\n",
    "    if another in ['yes' , 'no']:\n",
    "        if another == 'yes':\n",
    "            continue\n",
    "        else:\n",
    "            break\n",
    "        \n",
    "    else:\n",
    "        print(\"You didn't input yes or no\")\n",
    "        another = input(\"\\nDo you want to add another product? (yes/no): \")\n",
    "        if another == 'yes':\n",
    "            continue\n",
    "        else:\n",
    "            break\n",
    "\n",
    "print(\"\\nCustomer Orders:\")\n",
    "for item in customer_orders:\n",
    "    print(item)\n",
    "\n",
    "total_number = len(customer_orders)\n",
    "total_inventory = sum(inventory.values())\n",
    "order_status = (total_number / total_inventory * 100)\n",
    "percentage_ordered = order_status\n",
    "print(\"\\nOrder Statistics:\")\n",
    "print(f\"Total Products Ordered:\", total_number)\n",
    "print(f\"Percentage of Products Ordered:\", percentage_ordered, \"%\")\n",
    "\n",
    "for item in customer_orders:\n",
    "    if inventory[item] > 0:\n",
    "        inventory[item] -= 1\n",
    "\n",
    "print(\"\\nRemaining inventory\")\n",
    "print(\"\\n\")\n",
    "\n",
    "for product in products:\n",
    "    print(f\"{product}: {inventory.get(product)}\")"
   ]
  }
 ],
 "metadata": {
  "kernelspec": {
   "display_name": "Python [conda env:base] *",
   "language": "python",
   "name": "conda-base-py"
  },
  "language_info": {
   "codemirror_mode": {
    "name": "ipython",
    "version": 3
   },
   "file_extension": ".py",
   "mimetype": "text/x-python",
   "name": "python",
   "nbconvert_exporter": "python",
   "pygments_lexer": "ipython3",
   "version": "3.12.7"
  }
 },
 "nbformat": 4,
 "nbformat_minor": 5
}
